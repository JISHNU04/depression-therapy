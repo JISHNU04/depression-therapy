{
 "cells": [
  {
   "cell_type": "markdown",
   "metadata": {
    "colab_type": "text",
    "id": "view-in-github"
   },
   "source": [
    "<a href=\"https://colab.research.google.com/github/Addi-11/Depression-chatbot/blob/temporary/preprocessing1.ipynb\" target=\"_parent\"><img src=\"https://colab.research.google.com/assets/colab-badge.svg\" alt=\"Open In Colab\"/></a>"
   ]
  },
  {
   "cell_type": "code",
   "execution_count": 9,
   "metadata": {
    "colab": {},
    "colab_type": "code",
    "id": "rvGaF-k0FwJn"
   },
   "outputs": [],
   "source": [
    "import collections\n",
    "import contractions\n",
    "import numpy as np\n",
    "import pandas as pd\n",
    "import matplotlib.pyplot as plt\n",
    "from tqdm import tqdm\n",
    "tqdm.pandas()\n",
    "import re"
   ]
  },
  {
   "cell_type": "markdown",
   "metadata": {},
   "source": [
    "Checking out the data"
   ]
  },
  {
   "cell_type": "code",
   "execution_count": 10,
   "metadata": {
    "colab": {
     "base_uri": "https://localhost:8080/",
     "height": 266
    },
    "colab_type": "code",
    "id": "jyaXLFexGUb-",
    "outputId": "d057820a-0874-4a7a-e5de-f1f307138d3c"
   },
   "outputs": [
    {
     "name": "stderr",
     "output_type": "stream",
     "text": [
      "/usr/local/lib/python3.6/dist-packages/ipykernel_launcher.py:2: ParserWarning: Falling back to the 'python' engine because the 'c' engine does not support sep=None with delim_whitespace=False; you can avoid this warning by specifying engine='python'.\n",
      "  \n",
      "Skipping line 3800: unexpected end of data\n"
     ]
    },
    {
     "data": {
      "text/html": [
       "<div>\n",
       "<style scoped>\n",
       "    .dataframe tbody tr th:only-of-type {\n",
       "        vertical-align: middle;\n",
       "    }\n",
       "\n",
       "    .dataframe tbody tr th {\n",
       "        vertical-align: top;\n",
       "    }\n",
       "\n",
       "    .dataframe thead th {\n",
       "        text-align: right;\n",
       "    }\n",
       "</style>\n",
       "<table border=\"1\" class=\"dataframe\">\n",
       "  <thead>\n",
       "    <tr style=\"text-align: right;\">\n",
       "      <th></th>\n",
       "      <th>title</th>\n",
       "      <th>response</th>\n",
       "    </tr>\n",
       "  </thead>\n",
       "  <tbody>\n",
       "    <tr>\n",
       "      <th>0</th>\n",
       "      <td>It kills me to see others in worse positions t...</td>\n",
       "      <td>I don’t know who you are, but I needed this an...</td>\n",
       "    </tr>\n",
       "    <tr>\n",
       "      <th>1</th>\n",
       "      <td>I don’t know who you are, but I needed this an...</td>\n",
       "      <td>Its no problem. I just know what its like. I'v...</td>\n",
       "    </tr>\n",
       "    <tr>\n",
       "      <th>2</th>\n",
       "      <td>Summer depression</td>\n",
       "      <td>[deleted]</td>\n",
       "    </tr>\n",
       "    <tr>\n",
       "      <th>3</th>\n",
       "      <td>[deleted]</td>\n",
       "      <td>I think it might be the hot weather for me... ...</td>\n",
       "    </tr>\n",
       "    <tr>\n",
       "      <th>4</th>\n",
       "      <td>[Chronically depressed 3+ years] I feel pathet...</td>\n",
       "      <td>It’s nice when people give us compliments. We ...</td>\n",
       "    </tr>\n",
       "  </tbody>\n",
       "</table>\n",
       "</div>"
      ],
      "text/plain": [
       "                                               title                                           response\n",
       "0  It kills me to see others in worse positions t...  I don’t know who you are, but I needed this an...\n",
       "1  I don’t know who you are, but I needed this an...  Its no problem. I just know what its like. I'v...\n",
       "2                                  Summer depression                                          [deleted]\n",
       "3                                          [deleted]  I think it might be the hot weather for me... ...\n",
       "4  [Chronically depressed 3+ years] I feel pathet...  It’s nice when people give us compliments. We ..."
      ]
     },
     "execution_count": 10,
     "metadata": {
      "tags": []
     },
     "output_type": "execute_result"
    }
   ],
   "source": [
    "df=pandas.read_csv('data.csv',sep=None, error_bad_lines=False)\n",
    "df.head()"
   ]
  },
  {
   "cell_type": "code",
   "execution_count": 11,
   "metadata": {
    "colab": {
     "base_uri": "https://localhost:8080/",
     "height": 54
    },
    "colab_type": "code",
    "id": "nVE1fv0zyigc",
    "outputId": "25773b98-0be4-4e88-fdd9-cc3d1141e925"
   },
   "outputs": [
    {
     "data": {
      "text/plain": [
       "\"It kills me to see others in worse positions than I am. You matter. You all matter and it doesn't matter what your depression or suicidal thoughts tell you.\""
      ]
     },
     "execution_count": 11,
     "metadata": {
      "tags": []
     },
     "output_type": "execute_result"
    }
   ],
   "source": [
    "df['title'][0]"
   ]
  },
  {
   "cell_type": "code",
   "execution_count": 12,
   "metadata": {
    "colab": {
     "base_uri": "https://localhost:8080/",
     "height": 54
    },
    "colab_type": "code",
    "id": "hiPLr7OVyxn2",
    "outputId": "95c7a9ba-8d38-44b3-8551-ef9da09a9a90"
   },
   "outputs": [
    {
     "data": {
      "text/plain": [
       "'I don’t know who you are, but I needed this and I thank you. I’ve been stuck ina runt for a couple months now. Wanting to just die and let it all be over with. But after reading it, I have a different mindset. Once again thank you kind stranger'"
      ]
     },
     "execution_count": 12,
     "metadata": {
      "tags": []
     },
     "output_type": "execute_result"
    }
   ],
   "source": [
    "df['response'][0]"
   ]
  },
  {
   "cell_type": "markdown",
   "metadata": {},
   "source": [
    "Removing deleted responses and titles"
   ]
  },
  {
   "cell_type": "code",
   "execution_count": 13,
   "metadata": {
    "colab": {},
    "colab_type": "code",
    "id": "gO8Sbl5Hy2Hu"
   },
   "outputs": [],
   "source": [
    "df=df[(df.title!='[deleted]') & (df.response!='[deleted]')]"
   ]
  },
  {
   "cell_type": "code",
   "execution_count": 14,
   "metadata": {
    "colab": {
     "base_uri": "https://localhost:8080/",
     "height": 34
    },
    "colab_type": "code",
    "id": "q4THuqmnzCt_",
    "outputId": "8896d767-aa31-4a04-9aee-297d267cec22"
   },
   "outputs": [
    {
     "data": {
      "text/plain": [
       "(3750, 2)"
      ]
     },
     "execution_count": 14,
     "metadata": {
      "tags": []
     },
     "output_type": "execute_result"
    }
   ],
   "source": [
    "df.shape"
   ]
  },
  {
   "cell_type": "code",
   "execution_count": 15,
   "metadata": {
    "colab": {
     "base_uri": "https://localhost:8080/",
     "height": 195
    },
    "colab_type": "code",
    "id": "lpXOwXPhzGDG",
    "outputId": "e90975bb-62a3-45b4-89fc-cdf636da80ac"
   },
   "outputs": [
    {
     "data": {
      "text/html": [
       "<div>\n",
       "<style scoped>\n",
       "    .dataframe tbody tr th:only-of-type {\n",
       "        vertical-align: middle;\n",
       "    }\n",
       "\n",
       "    .dataframe tbody tr th {\n",
       "        vertical-align: top;\n",
       "    }\n",
       "\n",
       "    .dataframe thead th {\n",
       "        text-align: right;\n",
       "    }\n",
       "</style>\n",
       "<table border=\"1\" class=\"dataframe\">\n",
       "  <thead>\n",
       "    <tr style=\"text-align: right;\">\n",
       "      <th></th>\n",
       "      <th>title</th>\n",
       "      <th>response</th>\n",
       "    </tr>\n",
       "  </thead>\n",
       "  <tbody>\n",
       "    <tr>\n",
       "      <th>0</th>\n",
       "      <td>It kills me to see others in worse positions t...</td>\n",
       "      <td>I don’t know who you are, but I needed this an...</td>\n",
       "    </tr>\n",
       "    <tr>\n",
       "      <th>1</th>\n",
       "      <td>I don’t know who you are, but I needed this an...</td>\n",
       "      <td>Its no problem. I just know what its like. I'v...</td>\n",
       "    </tr>\n",
       "    <tr>\n",
       "      <th>4</th>\n",
       "      <td>[Chronically depressed 3+ years] I feel pathet...</td>\n",
       "      <td>It’s nice when people give us compliments. We ...</td>\n",
       "    </tr>\n",
       "    <tr>\n",
       "      <th>5</th>\n",
       "      <td>Sick of being sad and lonely</td>\n",
       "      <td>Dude, I'm terribly sorry for how things have h...</td>\n",
       "    </tr>\n",
       "    <tr>\n",
       "      <th>6</th>\n",
       "      <td>Dude, I'm terribly sorry for how things have h...</td>\n",
       "      <td>This is probably some of the best advice I hav...</td>\n",
       "    </tr>\n",
       "  </tbody>\n",
       "</table>\n",
       "</div>"
      ],
      "text/plain": [
       "                                               title                                           response\n",
       "0  It kills me to see others in worse positions t...  I don’t know who you are, but I needed this an...\n",
       "1  I don’t know who you are, but I needed this an...  Its no problem. I just know what its like. I'v...\n",
       "4  [Chronically depressed 3+ years] I feel pathet...  It’s nice when people give us compliments. We ...\n",
       "5                       Sick of being sad and lonely  Dude, I'm terribly sorry for how things have h...\n",
       "6  Dude, I'm terribly sorry for how things have h...  This is probably some of the best advice I hav..."
      ]
     },
     "execution_count": 15,
     "metadata": {
      "tags": []
     },
     "output_type": "execute_result"
    }
   ],
   "source": [
    "df.head()"
   ]
  },
  {
   "cell_type": "markdown",
   "metadata": {
    "colab": {},
    "colab_type": "code",
    "id": "keoAhthazWbY"
   },
   "source": [
    "Removing all contractions from the text "
   ]
  },
  {
   "cell_type": "code",
   "execution_count": 18,
   "metadata": {
    "colab": {},
    "colab_type": "code",
    "id": "xDaltb4vzZuF"
   },
   "outputs": [],
   "source": [
    "df['title']=df['title'].apply(lambda x:x.replace(x,contractions.fix(x)))"
   ]
  },
  {
   "cell_type": "code",
   "execution_count": 19,
   "metadata": {
    "colab": {},
    "colab_type": "code",
    "id": "BLrbE9EzzsJW"
   },
   "outputs": [],
   "source": [
    "df['response']=df['response'].apply(lambda x:x.replace(x,contractions.fix(x)))"
   ]
  },
  {
   "cell_type": "markdown",
   "metadata": {},
   "source": [
    "Removing special characters and punctuations"
   ]
  },
  {
   "cell_type": "code",
   "execution_count": 20,
   "metadata": {
    "colab": {},
    "colab_type": "code",
    "id": "mrnRzWpa1ZzJ"
   },
   "outputs": [],
   "source": [
    "df['title']=df['title'].str.replace(\"[^a-zA-Z#.,]\",\" \")"
   ]
  },
  {
   "cell_type": "code",
   "execution_count": 21,
   "metadata": {
    "colab": {},
    "colab_type": "code",
    "id": "w1uiWmKt1enB"
   },
   "outputs": [],
   "source": [
    "df['response']=df['response'].str.replace(\"[^a-zA-Z#.,]\",\" \")"
   ]
  },
  {
   "cell_type": "code",
   "execution_count": 22,
   "metadata": {
    "colab": {
     "base_uri": "https://localhost:8080/",
     "height": 195
    },
    "colab_type": "code",
    "id": "rvbKTv7x1gw7",
    "outputId": "912e401a-3d11-41f8-b9ba-b9d6c4dbeccf"
   },
   "outputs": [
    {
     "data": {
      "text/html": [
       "<div>\n",
       "<style scoped>\n",
       "    .dataframe tbody tr th:only-of-type {\n",
       "        vertical-align: middle;\n",
       "    }\n",
       "\n",
       "    .dataframe tbody tr th {\n",
       "        vertical-align: top;\n",
       "    }\n",
       "\n",
       "    .dataframe thead th {\n",
       "        text-align: right;\n",
       "    }\n",
       "</style>\n",
       "<table border=\"1\" class=\"dataframe\">\n",
       "  <thead>\n",
       "    <tr style=\"text-align: right;\">\n",
       "      <th></th>\n",
       "      <th>title</th>\n",
       "      <th>response</th>\n",
       "    </tr>\n",
       "  </thead>\n",
       "  <tbody>\n",
       "    <tr>\n",
       "      <th>0</th>\n",
       "      <td>It kills me to see others in worse positions t...</td>\n",
       "      <td>I do not know who you are, but I needed this a...</td>\n",
       "    </tr>\n",
       "    <tr>\n",
       "      <th>1</th>\n",
       "      <td>I do not know who you are, but I needed this a...</td>\n",
       "      <td>Its no problem. I just know what its like. I h...</td>\n",
       "    </tr>\n",
       "    <tr>\n",
       "      <th>4</th>\n",
       "      <td>Chronically depressed    years  I feel pathet...</td>\n",
       "      <td>it is nice when people give us compliments. We...</td>\n",
       "    </tr>\n",
       "    <tr>\n",
       "      <th>5</th>\n",
       "      <td>Sick of being sad and lonely</td>\n",
       "      <td>Dude, I am terribly sorry for how things have ...</td>\n",
       "    </tr>\n",
       "    <tr>\n",
       "      <th>6</th>\n",
       "      <td>Dude, I am terribly sorry for how things have ...</td>\n",
       "      <td>This is probably some of the best advice I hav...</td>\n",
       "    </tr>\n",
       "  </tbody>\n",
       "</table>\n",
       "</div>"
      ],
      "text/plain": [
       "                                               title                                           response\n",
       "0  It kills me to see others in worse positions t...  I do not know who you are, but I needed this a...\n",
       "1  I do not know who you are, but I needed this a...  Its no problem. I just know what its like. I h...\n",
       "4   Chronically depressed    years  I feel pathet...  it is nice when people give us compliments. We...\n",
       "5                       Sick of being sad and lonely  Dude, I am terribly sorry for how things have ...\n",
       "6  Dude, I am terribly sorry for how things have ...  This is probably some of the best advice I hav..."
      ]
     },
     "execution_count": 22,
     "metadata": {
      "tags": []
     },
     "output_type": "execute_result"
    }
   ],
   "source": [
    "df.head()"
   ]
  },
  {
   "cell_type": "markdown",
   "metadata": {},
   "source": [
    "Remove extra space and lower case all the text"
   ]
  },
  {
   "cell_type": "code",
   "execution_count": 23,
   "metadata": {
    "colab": {},
    "colab_type": "code",
    "id": "AR03eI-o24iQ"
   },
   "outputs": [],
   "source": [
    "df['title']=df['title'].apply(lambda x : x.lower().strip())\n",
    "df['response']=df['response'].apply(lambda x : x.lower().strip())"
   ]
  },
  {
   "cell_type": "code",
   "execution_count": 24,
   "metadata": {
    "colab": {
     "base_uri": "https://localhost:8080/",
     "height": 195
    },
    "colab_type": "code",
    "id": "mvzTHXVf3OhN",
    "outputId": "d8c10f21-3a0c-4cc1-e02d-db7badec705e"
   },
   "outputs": [
    {
     "data": {
      "text/html": [
       "<div>\n",
       "<style scoped>\n",
       "    .dataframe tbody tr th:only-of-type {\n",
       "        vertical-align: middle;\n",
       "    }\n",
       "\n",
       "    .dataframe tbody tr th {\n",
       "        vertical-align: top;\n",
       "    }\n",
       "\n",
       "    .dataframe thead th {\n",
       "        text-align: right;\n",
       "    }\n",
       "</style>\n",
       "<table border=\"1\" class=\"dataframe\">\n",
       "  <thead>\n",
       "    <tr style=\"text-align: right;\">\n",
       "      <th></th>\n",
       "      <th>title</th>\n",
       "      <th>response</th>\n",
       "    </tr>\n",
       "  </thead>\n",
       "  <tbody>\n",
       "    <tr>\n",
       "      <th>0</th>\n",
       "      <td>it kills me to see others in worse positions t...</td>\n",
       "      <td>i do not know who you are, but i needed this a...</td>\n",
       "    </tr>\n",
       "    <tr>\n",
       "      <th>1</th>\n",
       "      <td>i do not know who you are, but i needed this a...</td>\n",
       "      <td>its no problem. i just know what its like. i h...</td>\n",
       "    </tr>\n",
       "    <tr>\n",
       "      <th>4</th>\n",
       "      <td>chronically depressed    years  i feel patheti...</td>\n",
       "      <td>it is nice when people give us compliments. we...</td>\n",
       "    </tr>\n",
       "    <tr>\n",
       "      <th>5</th>\n",
       "      <td>sick of being sad and lonely</td>\n",
       "      <td>dude, i am terribly sorry for how things have ...</td>\n",
       "    </tr>\n",
       "    <tr>\n",
       "      <th>6</th>\n",
       "      <td>dude, i am terribly sorry for how things have ...</td>\n",
       "      <td>this is probably some of the best advice i hav...</td>\n",
       "    </tr>\n",
       "  </tbody>\n",
       "</table>\n",
       "</div>"
      ],
      "text/plain": [
       "                                               title                                           response\n",
       "0  it kills me to see others in worse positions t...  i do not know who you are, but i needed this a...\n",
       "1  i do not know who you are, but i needed this a...  its no problem. i just know what its like. i h...\n",
       "4  chronically depressed    years  i feel patheti...  it is nice when people give us compliments. we...\n",
       "5                       sick of being sad and lonely  dude, i am terribly sorry for how things have ...\n",
       "6  dude, i am terribly sorry for how things have ...  this is probably some of the best advice i hav..."
      ]
     },
     "execution_count": 24,
     "metadata": {
      "tags": []
     },
     "output_type": "execute_result"
    }
   ],
   "source": [
    "df.head()"
   ]
  },
  {
   "cell_type": "markdown",
   "metadata": {},
   "source": [
    "Removing all the spelling mistakes - assuming language english only"
   ]
  },
  {
   "cell_type": "code",
   "execution_count": 25,
   "metadata": {
    "colab": {
     "base_uri": "https://localhost:8080/",
     "height": 205
    },
    "colab_type": "code",
    "id": "EKNXOQ_p3ROB",
    "outputId": "5396688f-69c5-480c-da56-cb4a167b36e1"
   },
   "outputs": [
    {
     "name": "stdout",
     "output_type": "stream",
     "text": [
      "Collecting autocorrect\n",
      "\u001b[?25l  Downloading https://files.pythonhosted.org/packages/aa/5b/6510d8370201fc96cbb773232c2362079389ed3285b0b1c6a297ef6eadc0/autocorrect-2.0.0.tar.gz (1.8MB)\n",
      "\u001b[K     |████████████████████████████████| 1.8MB 3.4MB/s \n",
      "\u001b[?25hBuilding wheels for collected packages: autocorrect\n",
      "  Building wheel for autocorrect (setup.py) ... \u001b[?25l\u001b[?25hdone\n",
      "  Created wheel for autocorrect: filename=autocorrect-2.0.0-cp36-none-any.whl size=1811641 sha256=378a6861dba60fdae1a39fb3593ef86db1e4348e688929a3e6f2902465da7d57\n",
      "  Stored in directory: /root/.cache/pip/wheels/0b/06/bc/e66f28d72bed29591eadc79cebb2e7964ad0282804ab233da3\n",
      "Successfully built autocorrect\n",
      "Installing collected packages: autocorrect\n",
      "Successfully installed autocorrect-2.0.0\n"
     ]
    }
   ],
   "source": [
    "# !pip install autocorrect\n",
    "from autocorrect import Speller"
   ]
  },
  {
   "cell_type": "code",
   "execution_count": 26,
   "metadata": {
    "colab": {},
    "colab_type": "code",
    "id": "1Ht5fjCf3aW4"
   },
   "outputs": [],
   "source": [
    "spell=Speller(lang='en')\n",
    "df['title']=df['title'].apply(lambda x: x.replace(x,spell(x)))"
   ]
  },
  {
   "cell_type": "code",
   "execution_count": 27,
   "metadata": {
    "colab": {},
    "colab_type": "code",
    "id": "UfIDD8yp4OwC"
   },
   "outputs": [],
   "source": [
    "spell=Speller(lang='en')\n",
    "df['response']=df['response'].apply(lambda x: x.replace(x,spell(x)))"
   ]
  },
  {
   "cell_type": "markdown",
   "metadata": {},
   "source": [
    "Adding space btw puctuation and text<br>\n",
    "Adding start and end tags to all the sentences"
   ]
  },
  {
   "cell_type": "code",
   "execution_count": 28,
   "metadata": {
    "colab": {},
    "colab_type": "code",
    "id": "bx3_c5CmM3VT"
   },
   "outputs": [],
   "source": [
    "def preprocess_sentence(w):\n",
    "\n",
    "    # replacing everything with space except (a-z, A-Z, \".\", \"?\", \"!\", \",\")\n",
    "    w = re.sub(r\"[^a-zA-Z?.!,¿]+\", \" \", w)\n",
    "\n",
    "    w = w.rstrip().strip()\n",
    "    \n",
    "    # adding a start and an end token to the sentence, so that the model know when to start and stop predicting.\n",
    "    w = '<start> ' + w + ' <end>'\n",
    "    \n",
    "    return w"
   ]
  },
  {
   "cell_type": "code",
   "execution_count": 29,
   "metadata": {
    "colab": {
     "base_uri": "https://localhost:8080/",
     "height": 229
    },
    "colab_type": "code",
    "id": "S1jZMRR_StTn",
    "outputId": "0b12b3f4-5ea0-448d-a73f-d209d4475b3c"
   },
   "outputs": [
    {
     "name": "stderr",
     "output_type": "stream",
     "text": [
      "100%|██████████| 3750/3750 [00:00<00:00, 22182.38it/s]\n",
      "100%|██████████| 3750/3750 [00:00<00:00, 15657.87it/s]\n"
     ]
    },
    {
     "data": {
      "text/html": [
       "<div>\n",
       "<style scoped>\n",
       "    .dataframe tbody tr th:only-of-type {\n",
       "        vertical-align: middle;\n",
       "    }\n",
       "\n",
       "    .dataframe tbody tr th {\n",
       "        vertical-align: top;\n",
       "    }\n",
       "\n",
       "    .dataframe thead th {\n",
       "        text-align: right;\n",
       "    }\n",
       "</style>\n",
       "<table border=\"1\" class=\"dataframe\">\n",
       "  <thead>\n",
       "    <tr style=\"text-align: right;\">\n",
       "      <th></th>\n",
       "      <th>title</th>\n",
       "      <th>response</th>\n",
       "    </tr>\n",
       "  </thead>\n",
       "  <tbody>\n",
       "    <tr>\n",
       "      <th>0</th>\n",
       "      <td>&lt;start&gt; it kills me to see others in worse pos...</td>\n",
       "      <td>&lt;start&gt; i do not know who you are , but i need...</td>\n",
       "    </tr>\n",
       "    <tr>\n",
       "      <th>1</th>\n",
       "      <td>&lt;start&gt; i do not know who you are , but i need...</td>\n",
       "      <td>&lt;start&gt; its no problem . i just know what its ...</td>\n",
       "    </tr>\n",
       "    <tr>\n",
       "      <th>4</th>\n",
       "      <td>&lt;start&gt; chronically depressed years i feel pat...</td>\n",
       "      <td>&lt;start&gt; it is nice when people give us complim...</td>\n",
       "    </tr>\n",
       "    <tr>\n",
       "      <th>5</th>\n",
       "      <td>&lt;start&gt; sick of being sad and lonely &lt;end&gt;</td>\n",
       "      <td>&lt;start&gt; dude , i am terribly sorry for how thi...</td>\n",
       "    </tr>\n",
       "    <tr>\n",
       "      <th>6</th>\n",
       "      <td>&lt;start&gt; dude , i am terribly sorry for how thi...</td>\n",
       "      <td>&lt;start&gt; this is probably some of the best advi...</td>\n",
       "    </tr>\n",
       "  </tbody>\n",
       "</table>\n",
       "</div>"
      ],
      "text/plain": [
       "                                               title                                           response\n",
       "0  <start> it kills me to see others in worse pos...  <start> i do not know who you are , but i need...\n",
       "1  <start> i do not know who you are , but i need...  <start> its no problem . i just know what its ...\n",
       "4  <start> chronically depressed years i feel pat...  <start> it is nice when people give us complim...\n",
       "5         <start> sick of being sad and lonely <end>  <start> dude , i am terribly sorry for how thi...\n",
       "6  <start> dude , i am terribly sorry for how thi...  <start> this is probably some of the best advi..."
      ]
     },
     "execution_count": 29,
     "metadata": {
      "tags": []
     },
     "output_type": "execute_result"
    }
   ],
   "source": [
    "df['title'] = df['title'].progress_apply(lambda x: preprocess_sentence(x))\n",
    "df['response'] = df['response'].progress_apply(lambda x: preprocess_sentence(x))\n",
    "df.head()"
   ]
  },
  {
   "cell_type": "markdown",
   "metadata": {},
   "source": [
    "Confirming the changes "
   ]
  },
  {
   "cell_type": "code",
   "execution_count": 31,
   "metadata": {
    "colab": {},
    "colab_type": "code",
    "id": "xovGHHp2X0LF"
   },
   "outputs": [],
   "source": [
    "titles = df['title'].values\n",
    "import string\n",
    "title=[]\n",
    "for i in range(len(titles)):\n",
    "  title.append(titles[i].strip())"
   ]
  },
  {
   "cell_type": "code",
   "execution_count": 32,
   "metadata": {
    "colab": {},
    "colab_type": "code",
    "id": "xTYKIXM8YIHP"
   },
   "outputs": [],
   "source": [
    "responses=df['response'].values\n",
    "response=[]\n",
    "for i in range(len(responses)):\n",
    "    response.append(responses[i].strip())"
   ]
  },
  {
   "cell_type": "code",
   "execution_count": 33,
   "metadata": {
    "colab": {
     "base_uri": "https://localhost:8080/",
     "height": 104
    },
    "colab_type": "code",
    "id": "I0VH6ciCYNLF",
    "outputId": "bb65e57e-884e-4604-cbcb-0f7addc4b5f5"
   },
   "outputs": [
    {
     "name": "stdout",
     "output_type": "stream",
     "text": [
      "Person 1 :  <start> it kills me to see others in worse positions than i am . you matter . you all matter and it does not matter what your depression or suicidal thoughts tell you . <end>\n",
      "Person 2 :  <start> i do not know who you are , but i needed this and i thank you . i have been stuck in runt for a couple months now . wanting to just die and let it all be over with . but after reading it , i have a different mindset . once again thank you kind stranger <end>\n",
      "Person 1 :  <start> i do not know who you are , but i needed this and i thank you . i have been stuck in runt for a couple months now . wanting to just die and let it all be over with . but after reading it , i have a different mindset . once again thank you kind stranger <end>\n",
      "Person 2 :  <start> its no problem . i just know what its like . i have been in this rut for a year , and i hate how many people are in the same , if not a worse position . do not kill yourself . all the things that made you happy in the past , that can still happen . it takes time and effort , and a lot of it , but believe me when i say its worth living . its difficult to just get out of bed . but if you start turning depression into like , a source of motivation , it can help . x b for example we are all depressed , that is why we are here , but we do not want to stay here . i remember when i was happy although i do not remember the feeling . i do not care what you do , just do not give up . x b i have split my brain and depression into two separate entities . try doing that . it helps me see and think clearer . <end>\n"
     ]
    }
   ],
   "source": [
    "for i in range(2):\n",
    "  print('Person 1 : ', title[i])\n",
    "  print('Person 2 : ', response[i])"
   ]
  },
  {
   "cell_type": "code",
   "execution_count": 34,
   "metadata": {
    "colab": {
     "base_uri": "https://localhost:8080/",
     "height": 202
    },
    "colab_type": "code",
    "id": "i54syYeJpH9W",
    "outputId": "689ce04a-1a52-4ef7-f814-08e8fb8cd42c"
   },
   "outputs": [
    {
     "name": "stdout",
     "output_type": "stream",
     "text": [
      "3750 Title sentences.\n",
      "180862 Title words.\n",
      "8766 unique Title words.\n",
      "10 Most common words in the Title:\n",
      "\".\" \"i\" \"to\" \",\" \"you\" \"and\" \"a\" \"<start>\" \"<end>\" \"the\"\n",
      "\n",
      "3750 Response sentences.\n",
      "291977 Response words.\n",
      "10643 unique Response words.\n",
      "10 Most common words in the Response dataset:\n",
      "\".\" \"i\" \",\" \"to\" \"you\" \"and\" \"the\" \"a\" \"is\" \"it\"\n"
     ]
    }
   ],
   "source": [
    "title_counter = collections.Counter([word for sentence in title for word in sentence.split()])\n",
    "response_counter = collections.Counter([word for sentence in response for word in sentence.split()])\n",
    "\n",
    "print('{} Title sentences.'.format(len(title)))\n",
    "print('{} Title words.'.format(len([word for sentence in title for word in sentence.split()])))\n",
    "print('{} unique Title words.'.format(len(title_counter)))\n",
    "print('10 Most common words in the Title:')\n",
    "print('\"' + '\" \"'.join(list(zip(*title_counter.most_common(10)))[0]) + '\"')\n",
    "print()\n",
    "print('{} Response sentences.'.format(len(response)))\n",
    "print('{} Response words.'.format(len([word for sentence in response for word in sentence.split()])))\n",
    "print('{} unique Response words.'.format(len(response_counter)))\n",
    "print('10 Most common words in the Response dataset:')\n",
    "print('\"' + '\" \"'.join(list(zip(*response_counter.most_common(10)))[0]) + '\"')"
   ]
  }
 ],
 "metadata": {
  "accelerator": "GPU",
  "colab": {
   "authorship_tag": "ABX9TyMbX+ZeQfY4C5yUZHFfh6yP",
   "collapsed_sections": [],
   "include_colab_link": true,
   "name": "preprocessing.ipynb",
   "provenance": []
  },
  "kernelspec": {
   "display_name": "Python 3",
   "language": "python",
   "name": "python3"
  },
  "language_info": {
   "codemirror_mode": {
    "name": "ipython",
    "version": 3
   },
   "file_extension": ".py",
   "mimetype": "text/x-python",
   "name": "python",
   "nbconvert_exporter": "python",
   "pygments_lexer": "ipython3",
   "version": "3.7.3"
  }
 },
 "nbformat": 4,
 "nbformat_minor": 1
}
